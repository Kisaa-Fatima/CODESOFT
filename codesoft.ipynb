{
 "cells": [
  {
   "cell_type": "markdown",
   "id": "8c2f8a1c",
   "metadata": {},
   "source": [
    "## CODESOFT INTERNSHIP TASK\n",
    "# BY KISAA FATIMA "
   ]
  },
  {
   "cell_type": "code",
   "execution_count": 2,
   "id": "76a6493b",
   "metadata": {},
   "outputs": [],
   "source": [
    "## TASK2 : SIMPLE CALCULATOR "
   ]
  },
  {
   "cell_type": "code",
   "execution_count": 3,
   "id": "f6c87b82",
   "metadata": {},
   "outputs": [
    {
     "name": "stdout",
     "output_type": "stream",
     "text": [
      "Enter the first number= 5\n",
      "Enter the second number= 65\n",
      "Enter the operation to be performed (+, -, *, /)= -\n",
      "The result is: -60.0\n"
     ]
    }
   ],
   "source": [
    "#DESIGNING A SIMPLE CALCULATOR ......\n",
    "# defining functions \n",
    "def add(value1, value2):\n",
    "  return value1 + value2\n",
    "\n",
    "def subtract(value1, value2):\n",
    "  return value1 - value2\n",
    "\n",
    "def multiply(value1, value2):\n",
    "  return value1 * value2\n",
    "\n",
    "def divide(value1, value2):\n",
    "  return value1 / value2\n",
    "\n",
    "#main function \n",
    "def main():\n",
    "  #Taking inputs from user \n",
    "  value1 = float(input(\"Enter the first number= \"))\n",
    "  value2 = float(input(\"Enter the second number= \"))\n",
    "  operator = input(\"Enter the operation to be performed (+, -, *, /)= \")\n",
    "    \n",
    "   #performing operation based on user selection of choice \n",
    "  if operator == \"+\":\n",
    "    result = add(value1, value2)\n",
    "  elif operator == \"-\":\n",
    "    result = subtract(value1, value2)\n",
    "  elif operator == \"*\":\n",
    "    result = multiply(value1, value2)\n",
    "  elif operator == \"/\":\n",
    "    result = divide(value1, value2)\n",
    "  else:\n",
    "    print(\"The operation is invalid\")\n",
    "    exit()\n",
    "\n",
    "  print(\"The result is:\", result)\n",
    "\n",
    "if __name__ == \"__main__\":\n",
    "  main()"
   ]
  },
  {
   "cell_type": "markdown",
   "id": "ca3836f3",
   "metadata": {},
   "source": [
    "## TASK 3 : PASSWORD GENERATOR"
   ]
  },
  {
   "cell_type": "code",
   "execution_count": 5,
   "id": "93350ad2",
   "metadata": {},
   "outputs": [
    {
     "name": "stdout",
     "output_type": "stream",
     "text": [
      "Enter the desired length of the password= 5\n",
      "Enter the desired complexity of the password (1-4)= 3\n",
      "The generated password is= s4FDi\n"
     ]
    }
   ],
   "source": [
    "\n",
    "import random\n",
    "\n",
    "def generate_password(length, complexity):\n",
    "  \"\"\"Generates a random password of the specified length and complexity.\n",
    "\n",
    "  Args:\n",
    "    length: The desired length of the password.\n",
    "    complexity: The desired complexity of the password.\n",
    "\n",
    "  Returns:\n",
    "    A randomly generated password.\n",
    "  \"\"\"\n",
    "\n",
    "  # Create a list of all possible characters to include in the password.\n",
    "  characters = []\n",
    "  if complexity >= 1:\n",
    "    characters.extend(list(\"abcdefghijklmnopqrstuvwxyz\"))\n",
    "  if complexity >= 2:\n",
    "    characters.extend(list(\"ABCDEFGHIJKLMNOPQRSTUVWXYZ\"))\n",
    "  if complexity >= 3:\n",
    "    characters.extend(list(\"0123456789\"))\n",
    "  if complexity >= 4:\n",
    "    characters.extend(list(\"!@#$%^&*()-+\"))\n",
    "\n",
    "  # Shuffle the list of characters to ensure randomness.\n",
    "  random.shuffle(characters)\n",
    "\n",
    "  # Generate a random password by selecting characters from the list.\n",
    "  password = \"\"\n",
    "  for i in range(length):\n",
    "    password += random.choice(characters)\n",
    "\n",
    "  return password\n",
    "\n",
    "def main():\n",
    "  # Prompt the user to specify the desired length and complexity of the password.\n",
    "  length = int(input(\"Enter the desired length of the password= \"))\n",
    "  complexity = int(input(\"Enter the desired complexity of the password (1-4)= \"))\n",
    "\n",
    "  # Check if the complexity input is between 1 and 4.\n",
    "  if complexity < 1 or complexity > 4:\n",
    "    print(\"Invalid complexity level. Please enter a value between 1 and 4.\")\n",
    "    return\n",
    "\n",
    "  # Generate a random password based on the user's input.\n",
    "  password = generate_password(length, complexity)\n",
    "\n",
    "  # Display the generated password on the screen.\n",
    "  print(\"The generated password is=\", password)\n",
    "\n",
    "if __name__ == \"__main__\":\n",
    "  main()"
   ]
  },
  {
   "cell_type": "markdown",
   "id": "a915b881",
   "metadata": {},
   "source": [
    "## TASK 4 : ROCK-PAPER-SCISSOR GAME "
   ]
  },
  {
   "cell_type": "code",
   "execution_count": 4,
   "id": "724d9ccd",
   "metadata": {},
   "outputs": [
    {
     "name": "stdout",
     "output_type": "stream",
     "text": [
      "---------------------------------------\n",
      "Welcome to Rock, Paper, Scissors GAME!\n",
      "---------------------------------------\n",
      "Choose PAPER, ROCK OR SCISSOR= paper\n",
      "You chose paper\n",
      "Computer chose paper\n",
      "It is a tie!\n",
      "User score= 0\n",
      "Computer score= 0\n",
      "Do you want to play again? yes or no= yes\n",
      "Choose PAPER, ROCK OR SCISSOR= rock\n",
      "You chose rock\n",
      "Computer chose scissors\n",
      "You won!\n",
      "User score= 1\n",
      "Computer score= 0\n",
      "Do you want to play again? yes or no= yes\n",
      "Choose PAPER, ROCK OR SCISSOR= rock\n",
      "You chose rock\n",
      "Computer chose scissors\n",
      "You won!\n",
      "User score= 2\n",
      "Computer score= 0\n",
      "Do you want to play again? yes or no= no\n"
     ]
    }
   ],
   "source": [
    "#importing random for computers choice to predict \n",
    "import random\n",
    "\n",
    "#creating function for user to select rock paper or sessior otherwise invalid\n",
    "def get_user_choice():\n",
    "    while True:\n",
    "        user_choice = input(\"Choose PAPER, ROCK OR SCISSOR= \").lower()\n",
    "        if user_choice in [\"rock\", \"paper\", \"scissors\"]:\n",
    "            return user_choice\n",
    "        else:\n",
    "            print(\"Invalid ! Please choose rock, paper, or scissors.\")\n",
    "\n",
    "#function to get computer choice using random module             \n",
    "def get_computer_choice():\n",
    "    choices = [\"rock\", \"paper\", \"scissors\"]\n",
    "    return random.choice(choices)\n",
    "\n",
    "#function for finding the winner \n",
    "def determine_winner(user_choice, computer_choice):\n",
    "    if user_choice == computer_choice:\n",
    "        return \"It is a tie!\"\n",
    "    #how user will win and oposite of this is computer win\n",
    "    elif (\n",
    "        (user_choice == \"rock\" and computer_choice == \"scissors\") or\n",
    "        (user_choice == \"scissors\" and computer_choice == \"paper\") or\n",
    "        (user_choice == \"paper\" and computer_choice == \"rock\")\n",
    "    ):\n",
    "        return \"You won!\"\n",
    "    else:\n",
    "        return \"Computer won!\"\n",
    "\n",
    "#final function, initializing user and computer score\n",
    "def play_game():\n",
    "    user_score = 0\n",
    "    computer_score = 0\n",
    "    \n",
    "    #while will obviously run and get both choices \n",
    "    while True:\n",
    "        user_choice = get_user_choice()\n",
    "        computer_choice = get_computer_choice()\n",
    "        \n",
    "        # calling what they both choose \n",
    "        print(f\"You chose {user_choice}\")\n",
    "        print(f\"Computer chose {computer_choice}\")\n",
    "        \n",
    "        #after that determining the winner  \n",
    "        result = determine_winner(user_choice, computer_choice)\n",
    "        print(result)\n",
    "         \n",
    "        # editing the score of user and computer after every game \n",
    "        if result == \"You won!\":\n",
    "            user_score += 1\n",
    "        elif result == \"Computer wons!\":\n",
    "            computer_score += 1\n",
    "            \n",
    "        #printing score\n",
    "        print(f\"User score= {user_score}\")\n",
    "        print(f\"Computer score= {computer_score}\")\n",
    "        \n",
    "        #converting user inp to lower case thats why used lower()\n",
    "        play_again = input(\"Do you want to play again? yes or no= \").lower()\n",
    "        if play_again != \"yes\":\n",
    "            break\n",
    "\n",
    "if __name__ == \"__main__\":\n",
    "    print(\"---------------------------------------\")\n",
    "    print(\"Welcome to Rock, Paper, Scissors GAME!\")\n",
    "    print(\"---------------------------------------\")\n",
    "    #calling playing game function \n",
    "    play_game()\n"
   ]
  },
  {
   "cell_type": "code",
   "execution_count": null,
   "id": "b97056c9",
   "metadata": {},
   "outputs": [],
   "source": []
  }
 ],
 "metadata": {
  "kernelspec": {
   "display_name": "Python 3 (ipykernel)",
   "language": "python",
   "name": "python3"
  },
  "language_info": {
   "codemirror_mode": {
    "name": "ipython",
    "version": 3
   },
   "file_extension": ".py",
   "mimetype": "text/x-python",
   "name": "python",
   "nbconvert_exporter": "python",
   "pygments_lexer": "ipython3",
   "version": "3.9.13"
  }
 },
 "nbformat": 4,
 "nbformat_minor": 5
}
